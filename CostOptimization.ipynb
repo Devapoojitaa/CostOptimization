{
  "nbformat": 4,
  "nbformat_minor": 0,
  "metadata": {
    "colab": {
      "provenance": []
    },
    "kernelspec": {
      "name": "python3",
      "display_name": "Python 3"
    },
    "language_info": {
      "name": "python"
    }
  },
  "cells": [
    {
      "cell_type": "code",
      "execution_count": 3,
      "metadata": {
        "colab": {
          "base_uri": "https://localhost:8080/"
        },
        "id": "9F5W9pRkOJq-",
        "outputId": "cac2f2e4-0445-4893-dfda-530c233306a2"
      },
      "outputs": [
        {
          "output_type": "stream",
          "name": "stdout",
          "text": [
            "Mean Squared Error: 2.4930747922437297\n",
            "   project_id  resource_hours   deadline  team_performance  predicted_hours\n",
            "0           1             120 2024-06-01              0.80       126.578947\n",
            "1           2             150 2024-07-15              0.90       145.000000\n",
            "2           3             100 2024-08-30              0.75       117.105263\n",
            "3           4             200 2024-09-10              0.85       139.210526\n",
            "Allocating 126.57894736842104 hours to project 1\n",
            "Allocating 144.99999999999997 hours to project 2\n",
            "Allocating 117.10526315789471 hours to project 3\n",
            "Allocating 139.21052631578945 hours to project 4\n",
            "Project 1 has a cost variance of 500\n",
            "Project 2 has a cost variance of 1000\n",
            "Project 3 has a cost variance of -1000\n",
            "Project 4 has a cost variance of 500\n"
          ]
        }
      ],
      "source": [
        "import pandas as pd\n",
        "from sklearn.model_selection import train_test_split\n",
        "from sklearn.linear_model import LinearRegression\n",
        "from sklearn.metrics import mean_squared_error\n",
        "\n",
        "data = {\n",
        "    'project_id': [1, 2, 3, 4],\n",
        "    'resource_hours': [110, 120, 130, 210],\n",
        "    'deadline': ['2024-06-16', '2024-07-16', '2024-08-28', '2024-09-29'],\n",
        "    'team_performance': [0.7, 0.9, 0.8, 0.95]\n",
        "}\n",
        "\n",
        "df = pd.DataFrame(data)\n",
        "df['deadline'] = pd.to_datetime(df['deadline'])\n",
        "\n",
        "historical_data = {\n",
        "    'resource_hours': [100, 120, 150, 80, 130],\n",
        "    'team_performance': [0.7, 0.8, 0.9, 0.6, 0.85],\n",
        "    'actual_hours': [110, 125, 145, 90, 135]\n",
        "}\n",
        "\n",
        "df_histogram = pd.DataFrame(historical_data)\n",
        "\n",
        "X = df_histogram[['resource_hours', 'team_performance']]\n",
        "y = df_histogram['actual_hours']\n",
        "X_train, X_test, y_train, y_test = train_test_split(X, y, test_size=0.2, random_state=42)\n",
        "\n",
        "model = LinearRegression()\n",
        "model.fit(X_train, y_train)\n",
        "\n",
        "predictions = model.predict(X_test)\n",
        "mse = mean_squared_error(y_test, predictions)\n",
        "print(f'Mean Squared Error: {mse}')\n",
        "\n",
        "df['predicted_hours'] = model.predict(df[['resource_hours', 'team_performance']])\n",
        "print(df)\n",
        "\n",
        "def allocate_resources(df):\n",
        "    for index, row in df.iterrows():\n",
        "        allocated_hours = row['predicted_hours']\n",
        "        print(f'Allocating {allocated_hours} hours to project {row[\"project_id\"]}')\n",
        "\n",
        "allocate_resources(df)\n",
        "\n",
        "# Sample cost data\n",
        "cost_data = {\n",
        "    'project_id': [1, 2, 3, 4],\n",
        "    'budget': [12000, 15000, 13000, 20000],\n",
        "    'actual_cost': [9500, 14000, 13000, 19500]\n",
        "}\n",
        "\n",
        "df_cost = pd.DataFrame(cost_data)\n",
        "def cost_optimization(df_cost):\n",
        "    df_cost['cost_variance'] = df_cost['budget'] - df_cost['actual_cost']\n",
        "    for index, row in df_cost.iterrows():\n",
        "        print(f'Project {row[\"project_id\"]} has a cost variance of {row[\"cost_variance\"]}')\n",
        "\n",
        "cost_optimization(df_cost)\n",
        "\n",
        "def main():\n",
        "    df = pd.DataFrame(data)\n",
        "    df['deadline'] = pd.to_datetime(df['deadline'])\n",
        "    X = df_histogram[['resource_hours', 'team_performance']]\n",
        "    y = df_histogram['actual_hours']\n",
        "    X_train, X_test, y_train, y_test = train_test_split(X, y, test_size=0.2, random_state=42)\n",
        "    model = LinearRegression()\n",
        "    model.fit(X_train, y_train)\n",
        "    df['predicted_hours'] = model.predict(df[['resource_hours', 'team_performance']])\n",
        "\n",
        "\n",
        "\n",
        "if __name__ == \"__main__\":\n",
        "    main()\n"
      ]
    }
  ]
}